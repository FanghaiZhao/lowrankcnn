{
 "metadata": {
  "language": "lua",
  "name": "",
  "signature": "sha256:fb44469004d59da442d4d62c0ff2cc7c9e9409410a4cb2cd5798f2e229551117"
 },
 "nbformat": 3,
 "nbformat_minor": 0,
 "worksheets": [
  {
   "cells": [
    {
     "cell_type": "code",
     "collapsed": false,
     "input": [
      "require 'cudnn'\n",
      "\n",
      " concat = nn.Concat(1)\n",
      "    fb5 = nn.Sequential()\n",
      "      fb5:add(cudnn.SpatialConvolution(3,10,1,5,1,1,0,2))       -- 224 -> 55\n",
      "      fb5:add(cudnn.SpatialConvolution(10,64,5,1,1,1,2,0))  \n",
      "      fb5:add(cudnn.ReLU())\n",
      "\n",
      "      fb5:add(cudnn.SpatialConvolution(64,10,1,5,1,1,0,2))\n",
      "      fb5:add(cudnn.SpatialConvolution(10,64,5,1,1,1,2,0))\n",
      "      fb5:add(cudnn.ReLU())\n",
      "\n",
      "      fb5:add(cudnn.SpatialConvolution(64,10,1,1,1,1,0,0))\n",
      "      fb5:add(cudnn.SpatialAveragePooling(32,32,1,1))\n",
      "\n",
      "fb9  = nn.Sequential() \n",
      "   fb9:add(cudnn.SpatialConvolution(3,20,1,9,1,1,0,4))       -- 224 -> 55\n",
      "   fb9:add(cudnn.SpatialConvolution(20,64,9,1,1,1,4,0))  \n",
      "   fb9:add(cudnn.ReLU())\n",
      "   --fb9:add(nn.SpatialBatchNormalization(64))\n",
      "\n",
      "   fb9:add(cudnn.SpatialConvolution(64,20,1,9,1,1,0,4))\n",
      "   fb9:add(cudnn.SpatialConvolution(20,64,9,1,1,1,4,0))\n",
      "   fb9:add(cudnn.ReLU())\n",
      "  -- fb9:add(nn.SpatialBatchNormalization(64))\n",
      "\n",
      "   fb9:add(cudnn.SpatialConvolution(64,10,1,1,1,1,0,0))\n",
      "   fb9:add(cudnn.SpatialAveragePooling(32,32,1,1))\n",
      "   concat:add(fb5)\n",
      "   concat:add(fb9)"
     ],
     "language": "python",
     "metadata": {},
     "outputs": [
      {
       "ename": "[string \"require 'cudnn'...\"]:5: attempt to index global 'fb5' (a nil value)\nstack traceback:\n\t[string \"require 'cudnn'...\"]:5: in main chunk\n\t[C]: in function 'xpcall'\n\t/home/bicmr/torch/install/share/lua/5.1/itorch/main.lua:177: in function </home/bicmr/torch/install/share/lua/5.1/itorch/main.lua:143>\n\t/home/bicmr/torch/install/share/lua/5.1/lzmq/poller.lua:75: in function 'poll'\n\t/home/bicmr/torch/install/share/lua/5.1/lzmq/impl/loop.lua:307: in function 'poll'\n\t/home/bicmr/torch/install/share/lua/5.1/lzmq/impl/loop.lua:325: in function 'sleep_ex'\n\t/home/bicmr/torch/install/share/lua/5.1/lzmq/impl/loop.lua:370: in function 'start'\n\t/home/bicmr/torch/install/share/lua/5.1/itorch/main.lua:344: in main chunk\n\t[C]: in function 'require'\n\t[string \"arg={'/home/bicmr/.ipython/profile_torch/secu...\"]:1: in main chunk",
       "evalue": "",
       "output_type": "pyerr",
       "traceback": [
        "[string \"require 'cudnn'...\"]:5: attempt to index global 'fb5' (a nil value)\nstack traceback:\n\t[string \"require 'cudnn'...\"]:5: in main chunk\n\t[C]: in function 'xpcall'\n\t/home/bicmr/torch/install/share/lua/5.1/itorch/main.lua:177: in function </home/bicmr/torch/install/share/lua/5.1/itorch/main.lua:143>\n\t/home/bicmr/torch/install/share/lua/5.1/lzmq/poller.lua:75: in function 'poll'\n\t/home/bicmr/torch/install/share/lua/5.1/lzmq/impl/loop.lua:307: in function 'poll'\n\t/home/bicmr/torch/install/share/lua/5.1/lzmq/impl/loop.lua:325: in function 'sleep_ex'\n\t/home/bicmr/torch/install/share/lua/5.1/lzmq/impl/loop.lua:370: in function 'start'\n\t/home/bicmr/torch/install/share/lua/5.1/itorch/main.lua:344: in main chunk\n\t[C]: in function 'require'\n\t[string \"arg={'/home/bicmr/.ipython/profile_torch/secu...\"]:1: in main chunk"
       ]
      }
     ],
     "prompt_number": 6
    },
    {
     "cell_type": "code",
     "collapsed": false,
     "input": [
      "x = torch.rand(3,32,32)"
     ],
     "language": "python",
     "metadata": {},
     "outputs": [],
     "prompt_number": 2
    },
    {
     "cell_type": "code",
     "collapsed": false,
     "input": [
      "output = fb5:forward(x)"
     ],
     "language": "python",
     "metadata": {},
     "outputs": [
      {
       "ename": "[string \"output = fb5:forward(x)...\"]:1: attempt to index global 'fb5' (a nil value)\nstack traceback:\n\t[string \"output = fb5:forward(x)...\"]:1: in main chunk\n\t[C]: in function 'xpcall'\n\t/home/bicmr/torch/install/share/lua/5.1/itorch/main.lua:177: in function </home/bicmr/torch/install/share/lua/5.1/itorch/main.lua:143>\n\t/home/bicmr/torch/install/share/lua/5.1/lzmq/poller.lua:75: in function 'poll'\n\t/home/bicmr/torch/install/share/lua/5.1/lzmq/impl/loop.lua:307: in function 'poll'\n\t/home/bicmr/torch/install/share/lua/5.1/lzmq/impl/loop.lua:325: in function 'sleep_ex'\n\t/home/bicmr/torch/install/share/lua/5.1/lzmq/impl/loop.lua:370: in function 'start'\n\t/home/bicmr/torch/install/share/lua/5.1/itorch/main.lua:344: in main chunk\n\t[C]: in function 'require'\n\t[string \"arg={'/home/bicmr/.ipython/profile_torch/secu...\"]:1: in main chunk",
       "evalue": "",
       "output_type": "pyerr",
       "traceback": [
        "[string \"output = fb5:forward(x)...\"]:1: attempt to index global 'fb5' (a nil value)\nstack traceback:\n\t[string \"output = fb5:forward(x)...\"]:1: in main chunk\n\t[C]: in function 'xpcall'\n\t/home/bicmr/torch/install/share/lua/5.1/itorch/main.lua:177: in function </home/bicmr/torch/install/share/lua/5.1/itorch/main.lua:143>\n\t/home/bicmr/torch/install/share/lua/5.1/lzmq/poller.lua:75: in function 'poll'\n\t/home/bicmr/torch/install/share/lua/5.1/lzmq/impl/loop.lua:307: in function 'poll'\n\t/home/bicmr/torch/install/share/lua/5.1/lzmq/impl/loop.lua:325: in function 'sleep_ex'\n\t/home/bicmr/torch/install/share/lua/5.1/lzmq/impl/loop.lua:370: in function 'start'\n\t/home/bicmr/torch/install/share/lua/5.1/itorch/main.lua:344: in main chunk\n\t[C]: in function 'require'\n\t[string \"arg={'/home/bicmr/.ipython/profile_torch/secu...\"]:1: in main chunk"
       ]
      }
     ],
     "prompt_number": 5
    },
    {
     "cell_type": "code",
     "collapsed": false,
     "input": [],
     "language": "python",
     "metadata": {},
     "outputs": []
    }
   ],
   "metadata": {}
  }
 ]
}